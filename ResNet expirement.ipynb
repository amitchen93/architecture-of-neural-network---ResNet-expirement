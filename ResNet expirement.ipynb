{
  "nbformat": 4,
  "nbformat_minor": 0,
  "metadata": {
    "kernelspec": {
      "display_name": "Python 3",
      "language": "python",
      "name": "python3"
    },
    "language_info": {
      "codemirror_mode": {
        "name": "ipython",
        "version": 3
      },
      "file_extension": ".py",
      "mimetype": "text/x-python",
      "name": "python",
      "nbconvert_exporter": "python",
      "pygments_lexer": "ipython3",
      "version": "3.6.6"
    },
    "colab": {
      "name": "main.ipynb.txt",
      "provenance": [],
      "toc_visible": true
    },
    "widgets": {
      "application/vnd.jupyter.widget-state+json": {
        "a7969ae887fe413a91cae7dfd14d6ab5": {
          "model_module": "@jupyter-widgets/controls",
          "model_name": "HBoxModel",
          "state": {
            "_view_name": "HBoxView",
            "_dom_classes": [],
            "_model_name": "HBoxModel",
            "_view_module": "@jupyter-widgets/controls",
            "_model_module_version": "1.5.0",
            "_view_count": null,
            "_view_module_version": "1.5.0",
            "box_style": "",
            "layout": "IPY_MODEL_61e9a273f9fc4986bca21ff183596d46",
            "_model_module": "@jupyter-widgets/controls",
            "children": [
              "IPY_MODEL_c974f7596216436381520604fa45a8ca",
              "IPY_MODEL_96b13cdf42b44879ae5e341cefd9ac96"
            ]
          }
        },
        "61e9a273f9fc4986bca21ff183596d46": {
          "model_module": "@jupyter-widgets/base",
          "model_name": "LayoutModel",
          "state": {
            "_view_name": "LayoutView",
            "grid_template_rows": null,
            "right": null,
            "justify_content": null,
            "_view_module": "@jupyter-widgets/base",
            "overflow": null,
            "_model_module_version": "1.2.0",
            "_view_count": null,
            "flex_flow": null,
            "width": null,
            "min_width": null,
            "border": null,
            "align_items": null,
            "bottom": null,
            "_model_module": "@jupyter-widgets/base",
            "top": null,
            "grid_column": null,
            "overflow_y": null,
            "overflow_x": null,
            "grid_auto_flow": null,
            "grid_area": null,
            "grid_template_columns": null,
            "flex": null,
            "_model_name": "LayoutModel",
            "justify_items": null,
            "grid_row": null,
            "max_height": null,
            "align_content": null,
            "visibility": null,
            "align_self": null,
            "height": null,
            "min_height": null,
            "padding": null,
            "grid_auto_rows": null,
            "grid_gap": null,
            "max_width": null,
            "order": null,
            "_view_module_version": "1.2.0",
            "grid_template_areas": null,
            "object_position": null,
            "object_fit": null,
            "grid_auto_columns": null,
            "margin": null,
            "display": null,
            "left": null
          }
        },
        "c974f7596216436381520604fa45a8ca": {
          "model_module": "@jupyter-widgets/controls",
          "model_name": "FloatProgressModel",
          "state": {
            "_view_name": "ProgressView",
            "style": "IPY_MODEL_13b16f0cf8004091b696e1d48bf8956a",
            "_dom_classes": [],
            "description": "",
            "_model_name": "FloatProgressModel",
            "bar_style": "success",
            "max": 170498071,
            "_view_module": "@jupyter-widgets/controls",
            "_model_module_version": "1.5.0",
            "value": 170498071,
            "_view_count": null,
            "_view_module_version": "1.5.0",
            "orientation": "horizontal",
            "min": 0,
            "description_tooltip": null,
            "_model_module": "@jupyter-widgets/controls",
            "layout": "IPY_MODEL_c6f65511e89e440599444993116897b8"
          }
        },
        "96b13cdf42b44879ae5e341cefd9ac96": {
          "model_module": "@jupyter-widgets/controls",
          "model_name": "HTMLModel",
          "state": {
            "_view_name": "HTMLView",
            "style": "IPY_MODEL_489f2515972a44d7965895810562d536",
            "_dom_classes": [],
            "description": "",
            "_model_name": "HTMLModel",
            "placeholder": "​",
            "_view_module": "@jupyter-widgets/controls",
            "_model_module_version": "1.5.0",
            "value": " 170499072/? [00:17&lt;00:00, 9873290.51it/s]",
            "_view_count": null,
            "_view_module_version": "1.5.0",
            "description_tooltip": null,
            "_model_module": "@jupyter-widgets/controls",
            "layout": "IPY_MODEL_3d894e3621544c44a9f8957ac4d836b1"
          }
        },
        "13b16f0cf8004091b696e1d48bf8956a": {
          "model_module": "@jupyter-widgets/controls",
          "model_name": "ProgressStyleModel",
          "state": {
            "_view_name": "StyleView",
            "_model_name": "ProgressStyleModel",
            "description_width": "initial",
            "_view_module": "@jupyter-widgets/base",
            "_model_module_version": "1.5.0",
            "_view_count": null,
            "_view_module_version": "1.2.0",
            "bar_color": null,
            "_model_module": "@jupyter-widgets/controls"
          }
        },
        "c6f65511e89e440599444993116897b8": {
          "model_module": "@jupyter-widgets/base",
          "model_name": "LayoutModel",
          "state": {
            "_view_name": "LayoutView",
            "grid_template_rows": null,
            "right": null,
            "justify_content": null,
            "_view_module": "@jupyter-widgets/base",
            "overflow": null,
            "_model_module_version": "1.2.0",
            "_view_count": null,
            "flex_flow": null,
            "width": null,
            "min_width": null,
            "border": null,
            "align_items": null,
            "bottom": null,
            "_model_module": "@jupyter-widgets/base",
            "top": null,
            "grid_column": null,
            "overflow_y": null,
            "overflow_x": null,
            "grid_auto_flow": null,
            "grid_area": null,
            "grid_template_columns": null,
            "flex": null,
            "_model_name": "LayoutModel",
            "justify_items": null,
            "grid_row": null,
            "max_height": null,
            "align_content": null,
            "visibility": null,
            "align_self": null,
            "height": null,
            "min_height": null,
            "padding": null,
            "grid_auto_rows": null,
            "grid_gap": null,
            "max_width": null,
            "order": null,
            "_view_module_version": "1.2.0",
            "grid_template_areas": null,
            "object_position": null,
            "object_fit": null,
            "grid_auto_columns": null,
            "margin": null,
            "display": null,
            "left": null
          }
        },
        "489f2515972a44d7965895810562d536": {
          "model_module": "@jupyter-widgets/controls",
          "model_name": "DescriptionStyleModel",
          "state": {
            "_view_name": "StyleView",
            "_model_name": "DescriptionStyleModel",
            "description_width": "",
            "_view_module": "@jupyter-widgets/base",
            "_model_module_version": "1.5.0",
            "_view_count": null,
            "_view_module_version": "1.2.0",
            "_model_module": "@jupyter-widgets/controls"
          }
        },
        "3d894e3621544c44a9f8957ac4d836b1": {
          "model_module": "@jupyter-widgets/base",
          "model_name": "LayoutModel",
          "state": {
            "_view_name": "LayoutView",
            "grid_template_rows": null,
            "right": null,
            "justify_content": null,
            "_view_module": "@jupyter-widgets/base",
            "overflow": null,
            "_model_module_version": "1.2.0",
            "_view_count": null,
            "flex_flow": null,
            "width": null,
            "min_width": null,
            "border": null,
            "align_items": null,
            "bottom": null,
            "_model_module": "@jupyter-widgets/base",
            "top": null,
            "grid_column": null,
            "overflow_y": null,
            "overflow_x": null,
            "grid_auto_flow": null,
            "grid_area": null,
            "grid_template_columns": null,
            "flex": null,
            "_model_name": "LayoutModel",
            "justify_items": null,
            "grid_row": null,
            "max_height": null,
            "align_content": null,
            "visibility": null,
            "align_self": null,
            "height": null,
            "min_height": null,
            "padding": null,
            "grid_auto_rows": null,
            "grid_gap": null,
            "max_width": null,
            "order": null,
            "_view_module_version": "1.2.0",
            "grid_template_areas": null,
            "object_position": null,
            "object_fit": null,
            "grid_auto_columns": null,
            "margin": null,
            "display": null,
            "left": null
          }
        }
      }
    }
  },
  "cells": [
    {
      "cell_type": "markdown",
      "metadata": {
        "id": "RNftrG6Dh-oI"
      },
      "source": [
        "# **ResNet**\n",
        "\n"
      ]
    },
    {
      "cell_type": "markdown",
      "metadata": {
        "id": "RZndAGE6nq4r"
      },
      "source": [
        "**Get github files**"
      ]
    },
    {
      "cell_type": "code",
      "metadata": {
        "colab": {
          "base_uri": "https://localhost:8080/"
        },
        "id": "9vi2uZwOljD9",
        "outputId": "f24de52f-adc2-49ce-8ae0-0320ed789502"
      },
      "source": [
        "!git clone https://github.com/a-martyn/resnet.git"
      ],
      "execution_count": 1,
      "outputs": [
        {
          "output_type": "stream",
          "text": [
            "Cloning into 'resnet'...\n",
            "remote: Enumerating objects: 283, done.\u001b[K\n",
            "remote: Total 283 (delta 0), reused 0 (delta 0), pack-reused 283\u001b[K\n",
            "Receiving objects: 100% (283/283), 54.51 MiB | 37.14 MiB/s, done.\n",
            "Resolving deltas: 100% (73/73), done.\n"
          ],
          "name": "stdout"
        }
      ]
    },
    {
      "cell_type": "code",
      "metadata": {
        "colab": {
          "base_uri": "https://localhost:8080/"
        },
        "id": "HxUo5gvnlt3l",
        "outputId": "8953dd26-1b79-4047-e28a-4a1b8abbe22b"
      },
      "source": [
        "cd resnet"
      ],
      "execution_count": 2,
      "outputs": [
        {
          "output_type": "stream",
          "text": [
            "/content/resnet\n"
          ],
          "name": "stdout"
        }
      ]
    },
    {
      "cell_type": "code",
      "metadata": {
        "id": "i6KYf4n7h-ok"
      },
      "source": [
        "%matplotlib inline\n",
        "%reload_ext autoreload\n",
        "%autoreload 2"
      ],
      "execution_count": 3,
      "outputs": []
    },
    {
      "cell_type": "markdown",
      "metadata": {
        "id": "0B4OjUSRn5FY"
      },
      "source": [
        "## **Imports**"
      ]
    },
    {
      "cell_type": "code",
      "metadata": {
        "id": "zHkTwxyyh-om"
      },
      "source": [
        "import os\n",
        "import numpy as np\n",
        "import pandas as pd\n",
        "import matplotlib.pyplot as plt\n",
        "import seaborn as sns\n",
        "import plotly.graph_objects as go\n",
        "\n",
        "\n",
        "import torch\n",
        "from torch import nn\n",
        "import torch.nn.functional as F\n",
        "import torch.optim as optim\n",
        "\n",
        "from torchvision import transforms\n",
        "from torchvision import datasets\n",
        "from torch.utils.data.sampler import SubsetRandomSampler\n",
        "\n",
        "from resnet import ResNet\n",
        "# from data_loader import get_data_loaders, plot_images\n",
        "from utils import calculate_normalisation_params\n",
        "from train import train\n",
        "\n",
        "\n",
        "import warnings\n",
        "warnings.filterwarnings('ignore')"
      ],
      "execution_count": 4,
      "outputs": []
    },
    {
      "cell_type": "code",
      "metadata": {
        "id": "TdRaGu_mh-oo"
      },
      "source": [
        "# GLOBALS\n",
        "# -----------------------\n",
        "\n",
        "data_dir = 'data/cifar10'\n",
        "batch_size = 128\n"
      ],
      "execution_count": 5,
      "outputs": []
    },
    {
      "cell_type": "markdown",
      "metadata": {
        "id": "7gfujpQNfUTn"
      },
      "source": [
        "##**Load Data functions**"
      ]
    },
    {
      "cell_type": "code",
      "metadata": {
        "id": "02jPQt-sfWhi"
      },
      "source": [
        "def get_data_loaders(data_dir,\n",
        "                     batch_size,\n",
        "                     train_transform,\n",
        "                     test_transform,\n",
        "                     shuffle=True,\n",
        "                     num_workers=4,\n",
        "                     pin_memory=False):\n",
        "    \"\"\"\n",
        "    Adapted from: https://gist.github.com/kevinzakka/d33bf8d6c7f06a9d8c76d97a7879f5cb\n",
        "    \n",
        "    Utility function for loading and returning train and test\n",
        "    multi-process iterators over the CIFAR-10 dataset.\n",
        "    If using CUDA, set pin_memory to True.\n",
        "    \n",
        "    Params\n",
        "    ------\n",
        "    - data_dir: path directory to the dataset.\n",
        "    - batch_size: how many samples per batch to load.\n",
        "    - train_transform: pytorch transforms for the training set\n",
        "    - test_transform: pytorch transofrms for the test set\n",
        "    - num_workers: number of subprocesses to use when loading the dataset.\n",
        "    - pin_memory: whether to copy tensors into CUDA pinned memory. Set it to\n",
        "      True if using GPU.\n",
        "    \n",
        "    Returns\n",
        "    -------\n",
        "    - train_loader: training set iterator.\n",
        "    - test_loader:  test set iterator.\n",
        "    \"\"\"\n",
        "    \n",
        "    #****************************************************************\n",
        "    valid_size = 0.10\n",
        "    random_seed = 42\n",
        "    \n",
        "\n",
        "    # load the dataset\n",
        "    train_dataset = datasets.CIFAR10(\n",
        "        root=data_dir, train=True,\n",
        "        download=True, transform=train_transform,\n",
        "    )\n",
        "\n",
        "    valid_dataset = datasets.CIFAR10(\n",
        "        root=data_dir, train=True,\n",
        "        download=True, transform=test_transform,\n",
        "    )\n",
        "\n",
        "    num_train = len(train_dataset) #20000\n",
        "    indices = list(range(num_train))\n",
        "    split = int(np.floor(valid_size * num_train))\n",
        "\n",
        "    if shuffle:\n",
        "        np.random.seed(random_seed)\n",
        "        np.random.shuffle(indices)\n",
        "\n",
        "    train_idx, valid_idx = indices[split:], indices[:split]\n",
        "    train_sampler = SubsetRandomSampler(train_idx)\n",
        "    valid_sampler = SubsetRandomSampler(valid_idx)\n",
        "\n",
        "    # TODO shuffle instead of sampler?\n",
        "    train_loader = torch.utils.data.DataLoader(\n",
        "        train_dataset, batch_size=batch_size, sampler=train_sampler,\n",
        "        num_workers=num_workers, pin_memory=pin_memory,\n",
        "    )\n",
        "    valid_loader = torch.utils.data.DataLoader(\n",
        "        valid_dataset, batch_size=batch_size, sampler=valid_sampler,\n",
        "        num_workers=num_workers, pin_memory=pin_memory,\n",
        "    )\n",
        "    #****************************************************************\n",
        "    \n",
        "    # # Create loader objects\n",
        "    # train_loader = torch.utils.data.DataLoader(\n",
        "    #     train_dataset, batch_size=batch_size, shuffle=shuffle,\n",
        "    #     num_workers=num_workers, pin_memory=pin_memory\n",
        "    # )\n",
        "\n",
        "    # test_loader = torch.utils.data.DataLoader(\n",
        "    #     test_dataset, batch_size=batch_size, shuffle=shuffle,\n",
        "    #     num_workers=num_workers, pin_memory=pin_memory\n",
        "    # )\n",
        "          \n",
        "    return (train_loader, valid_loader)\n",
        "\n",
        "\n",
        "def plot_images(images, cls_true, cls_pred=None):\n",
        "    \"\"\"\n",
        "    Plot images with labels.\n",
        "    Adapted from https://github.com/Hvass-Labs/TensorFlow-Tutorials/\n",
        "    \"\"\"\n",
        "    \n",
        "    # CIFAR10 labels\n",
        "    label_names = [\n",
        "        'airplane',\n",
        "        'automobile',\n",
        "        'bird',\n",
        "        'cat',\n",
        "        'deer',\n",
        "        'dog',\n",
        "        'frog',\n",
        "        'horse',\n",
        "        'ship',\n",
        "        'truck'\n",
        "    ]\n",
        "    \n",
        "    fig, axes = plt.subplots(3, 3)\n",
        "\n",
        "    for i, ax in enumerate(axes.flat):\n",
        "        # plot img\n",
        "        ax.imshow(images[i, :, :, :], interpolation='spline16')\n",
        "\n",
        "        # show true & predicted classes\n",
        "        cls_true_name = label_names[cls_true[i]]\n",
        "        if cls_pred is None:\n",
        "            xlabel = \"{0} ({1})\".format(cls_true_name, cls_true[i])\n",
        "        else:\n",
        "            cls_pred_name = label_names[cls_pred[i]]\n",
        "            xlabel = \"True: {0}\\nPred: {1}\".format(\n",
        "                cls_true_name, cls_pred_name\n",
        "            )\n",
        "        ax.set_xlabel(xlabel)\n",
        "        ax.set_xticks([])\n",
        "        ax.set_yticks([])\n",
        "    plt.show()\n"
      ],
      "execution_count": 6,
      "outputs": []
    },
    {
      "cell_type": "markdown",
      "metadata": {
        "id": "TuV1peflh-oo"
      },
      "source": [
        "## **Data augmentation: Training set**"
      ]
    },
    {
      "cell_type": "code",
      "metadata": {
        "scrolled": true,
        "colab": {
          "base_uri": "https://localhost:8080/",
          "height": 377,
          "referenced_widgets": [
            "a7969ae887fe413a91cae7dfd14d6ab5",
            "61e9a273f9fc4986bca21ff183596d46",
            "c974f7596216436381520604fa45a8ca",
            "96b13cdf42b44879ae5e341cefd9ac96",
            "13b16f0cf8004091b696e1d48bf8956a",
            "c6f65511e89e440599444993116897b8",
            "489f2515972a44d7965895810562d536",
            "3d894e3621544c44a9f8957ac4d836b1"
          ]
        },
        "id": "9h0YQKEeh-op",
        "outputId": "a53e085c-5c35-458e-815e-e8d955118c56"
      },
      "source": [
        "# VISUALISE\n",
        "# -----------------------\n",
        "\n",
        "# Load data without normalisations\n",
        "\n",
        "train_transform = transforms.Compose([\n",
        "    # 4 pixels are padded on each side, \n",
        "    transforms.Pad(4),\n",
        "    # a 32×32 crop is randomly sampled from the \n",
        "    # padded image or its horizontal flip.\n",
        "    transforms.RandomHorizontalFlip(0.5),\n",
        "    transforms.RandomCrop(32),\n",
        "    transforms.ToTensor()\n",
        "])\n",
        "\n",
        "test_transform = transforms.Compose([\n",
        "    # For testing, we only evaluate the single \n",
        "    # view of the original 32×32 image.\n",
        "    transforms.ToTensor()\n",
        "])\n",
        "\n",
        "train_loader, test_loader = get_data_loaders(data_dir,\n",
        "                                             batch_size,\n",
        "                                             train_transform,\n",
        "                                             test_transform,\n",
        "                                             shuffle=True,\n",
        "                                             num_workers=4,\n",
        "                                             pin_memory=True)\n",
        "\n",
        "\n",
        "# Training images\n",
        "data_iter = iter(train_loader)\n",
        "images, labels = data_iter.next()\n",
        "X = images.numpy().transpose([0, 2, 3, 1])\n",
        "plot_images(X, labels)\n",
        "print(images.shape)"
      ],
      "execution_count": 7,
      "outputs": [
        {
          "output_type": "stream",
          "text": [
            "Downloading https://www.cs.toronto.edu/~kriz/cifar-10-python.tar.gz to data/cifar10/cifar-10-python.tar.gz\n"
          ],
          "name": "stdout"
        },
        {
          "output_type": "display_data",
          "data": {
            "application/vnd.jupyter.widget-view+json": {
              "model_id": "a7969ae887fe413a91cae7dfd14d6ab5",
              "version_minor": 0,
              "version_major": 2
            },
            "text/plain": [
              "HBox(children=(FloatProgress(value=0.0, max=170498071.0), HTML(value='')))"
            ]
          },
          "metadata": {
            "tags": []
          }
        },
        {
          "output_type": "stream",
          "text": [
            "\n",
            "Extracting data/cifar10/cifar-10-python.tar.gz to data/cifar10\n",
            "Files already downloaded and verified\n"
          ],
          "name": "stdout"
        },
        {
          "output_type": "display_data",
          "data": {
            "image/png": "[encoded data removed]",
            "text/plain": [
              "<Figure size 432x288 with 9 Axes>"
            ]
          },
          "metadata": {
            "tags": []
          }
        },
        {
          "output_type": "stream",
          "text": [
            "torch.Size([128, 3, 32, 32])\n"
          ],
          "name": "stdout"
        }
      ]
    },
    {
      "cell_type": "markdown",
      "metadata": {
        "id": "CHfsGTFth-os"
      },
      "source": [
        "The training set consists of 50,000 32x32 pixel images. These are padded with 4 pixels on each side, before a crop is randomly sampled from the padded image or its horziontal flip. \n",
        "\n",
        "The authors cite C.-Y. Lee, S. Xie, P. Gallagher, Z. Zhang, and Z. Tu. Deeply-supervised nets. arXiv:1409.5185, 2014. This paper suggests that 'corner cropping' should be used which could be interpretted one of two ways:\n",
        "\n",
        "1. There are five possible crops for each image, centre and then four further crops with the crop placed tightly in each corner. This equates to `torchvision.transforms.FiveCrop()` in PyTorch.\n",
        "2. The crop position is randomly selected from any possible position within the bounds of the padded image. Equivalent to `torchvision.transforms.RandomCrop()` in PyTorch.\n",
        "\n",
        "The intended implementation seem ambiguous to me, so I implemented the latter here largely for simplicity."
      ]
    },
    {
      "cell_type": "markdown",
      "metadata": {
        "id": "TVFQSe2gh-ot"
      },
      "source": [
        "## Data augmentation: Test set"
      ]
    },
    {
      "cell_type": "code",
      "metadata": {
        "colab": {
          "base_uri": "https://localhost:8080/",
          "height": 278
        },
        "id": "thlbq4-kh-ot",
        "outputId": "d1293564-e1e6-42ed-f558-0b6035ee1849"
      },
      "source": [
        "# Test images\n",
        "data_iter = iter(test_loader)\n",
        "images, labels = data_iter.next()\n",
        "X = images.numpy().transpose([0, 2, 3, 1])\n",
        "plot_images(X, labels)\n",
        "print(images.shape)"
      ],
      "execution_count": 8,
      "outputs": [
        {
          "output_type": "display_data",
          "data": {
            "image/png": "[encoded data removed]",
            "text/plain": [
              "<Figure size 432x288 with 9 Axes>"
            ]
          },
          "metadata": {
            "tags": []
          }
        },
        {
          "output_type": "stream",
          "text": [
            "torch.Size([128, 3, 32, 32])\n"
          ],
          "name": "stdout"
        }
      ]
    },
    {
      "cell_type": "markdown",
      "metadata": {
        "id": "ojfKTv-mh-ou"
      },
      "source": [
        "There are 10,000 images in the test set. These are not transformed."
      ]
    },
    {
      "cell_type": "markdown",
      "metadata": {
        "id": "igoeK39sh-ov"
      },
      "source": [
        "## Calculate normalisation parameters\n",
        "\n",
        "The authors don't explicitly state if the images are normalised prior to training, however the paper referenced on preprocessing (C.-Y. Lee, S. Xie, P. Gallagher, Z. Zhang, and Z. Tu. Deeply-supervised nets. arXiv:1409.5185, 2014) notes that normalisation is used. \n",
        "\n",
        "I was unsure if the mean and standard deviation of the dataset should be calculated before or after augmentation for this purpose. It is also unclear if these calcualations should be done across the training and test set combined, or only the training set.\n",
        "\n",
        "Her I've used the pre-transform training and test set combined."
      ]
    },
    {
      "cell_type": "code",
      "metadata": {
        "colab": {
          "base_uri": "https://localhost:8080/"
        },
        "id": "51U0jVdhh-ow",
        "outputId": "e0e40652-ce30-4149-f4e7-0222861e49e7"
      },
      "source": [
        "# NORMALIZATION\n",
        "# -----------------------\n",
        "# Calculate the mean and standard deviation of each channel\n",
        "# for all observations in training and test datasets. The\n",
        "# results can then be used for normalisation\n",
        "\n",
        "# Load data without transforms\n",
        "\n",
        "train_transform = transforms.Compose([\n",
        "    # 4 pixels are padded on each side, \n",
        "    transforms.ToTensor()\n",
        "])\n",
        "\n",
        "test_transform = transforms.Compose([\n",
        "    # For testing, we only evaluate the single \n",
        "    # view of the original 32×32 image.\n",
        "    transforms.ToTensor()\n",
        "])\n",
        "\n",
        "train_loader, test_loader = get_data_loaders(data_dir,\n",
        "                                             batch_size,\n",
        "                                             train_transform,\n",
        "                                             test_transform,\n",
        "                                             shuffle=True,\n",
        "                                             num_workers=4,\n",
        "                                             pin_memory=True)\n",
        "\n",
        "\n",
        "# Takes a while to run so I've hardcoded results below\n",
        "\n",
        "means, stds = calculate_normalisation_params(train_loader, test_loader)\n",
        "print(f'means: {means}')\n",
        "print(f'stds: {stds}')"
      ],
      "execution_count": null,
      "outputs": [
        {
          "output_type": "stream",
          "text": [
            "Files already downloaded and verified\n",
            "Files already downloaded and verified\n"
          ],
          "name": "stdout"
        }
      ]
    },
    {
      "cell_type": "markdown",
      "metadata": {
        "id": "mC-5NPRuh-oy"
      },
      "source": [
        "## Preprocessing\n",
        "\n",
        "Here we finalise data augmentation and normalisation parameters ahead of training."
      ]
    },
    {
      "cell_type": "code",
      "metadata": {
        "id": "f6WM1HxNh-oy"
      },
      "source": [
        "# SET FINAL TRANSFORMS WITH NORMALISATION\n",
        "\n",
        "# [x] simple data augmentation in [24]\n",
        "# [x] 4 pixels are padded on each side, \n",
        "# [x] and a 32×32 crop is randomly sampled from the padded image or its horizontal flip.\n",
        "# [x] For testing, we only evaluate the single view of the original 32×32 image.\n",
        "\n",
        "\n",
        "# Normalisation parameters fo CIFAR10\n",
        "means = [0.4918687901200927, 0.49185976472299225, 0.4918583862227116]\n",
        "stds  = [0.24697121702736, 0.24696766978537033, 0.2469719877121087]\n",
        "\n",
        "normalize = transforms.Normalize(\n",
        "    mean=means,\n",
        "    std=stds,\n",
        ")\n",
        "\n",
        "train_transform = transforms.Compose([\n",
        "    # 4 pixels are padded on each side, \n",
        "    transforms.Pad(4),\n",
        "    # a 32×32 crop is randomly sampled from the \n",
        "    # padded image or its horizontal flip.\n",
        "    transforms.RandomHorizontalFlip(0.5),\n",
        "    transforms.RandomCrop(32),\n",
        "    transforms.ToTensor(),\n",
        "    normalize\n",
        "])\n",
        "\n",
        "test_transform = transforms.Compose([\n",
        "    # For testing, we only evaluate the single \n",
        "    # view of the original 32×32 image.\n",
        "    transforms.ToTensor(),\n",
        "    normalize\n",
        "])"
      ],
      "execution_count": null,
      "outputs": []
    },
    {
      "cell_type": "markdown",
      "metadata": {
        "id": "l-hKegjth-oz"
      },
      "source": [
        "Notes:\n",
        "\n",
        "- Note: downsampling with stride 2 results in uneven convolution, e.g. W_out is 16.5. Why didn't the authors use Maxpooling, would have been neater."
      ]
    },
    {
      "cell_type": "markdown",
      "metadata": {
        "id": "KJ7YiWbmh-o0"
      },
      "source": [
        "## Training"
      ]
    },
    {
      "cell_type": "markdown",
      "metadata": {
        "id": "_1Gj4JP7h-o0"
      },
      "source": [
        "The authors report their results in term of training iterations. I've assumed an iteration here means a forwards and backwards pass of a batch of 128 observations through the entire network.\n",
        "\n",
        "It seems more convenient to work in epochs in PyTorch, so here I calculate the integer number of iterations per epoch for later conversions. The results is 391 iterations per epoch. An epoch is a forwards and backwards pass for all observations in the training set."
      ]
    },
    {
      "cell_type": "markdown",
      "metadata": {
        "id": "T_eNZHfch-o2"
      },
      "source": [
        "### Hyperparameters\n",
        "\n",
        "Set the hyperparameters as described by the authors, with iterations converted to epochs where appropriate."
      ]
    },
    {
      "cell_type": "code",
      "metadata": {
        "id": "jrWTR775h-o2"
      },
      "source": [
        "# TRAINING PARAMETERS\n",
        "# -------------------------\n",
        "\n",
        "# number of trails\n",
        "runs = 1 # 4\n",
        "\n",
        "# Authors cite 64k iterations\n",
        "# 64000/391 = 164\n",
        "epochs = 100\n",
        "#10 # 164\n",
        "\n",
        "# OPTIMISER PARAMETERS\n",
        "lr = 0.1 \n",
        "momentum = 0.9\n",
        "weight_decay = 0.0001 \n",
        "\n",
        "# LEARNING RATE ADJUSTMENT\n",
        "# Reduce learning rate at iterations \n",
        "# 32k and 48k. Convert to epochs:\n",
        "# e.g. iterations / (n_observations/batch_size) \n",
        "# 32000/391 = 82\n",
        "# 48000/391 = 123\n",
        "milestones = [82, 123]\n",
        "# Divide learning rate by 10 at each milestone\n",
        "gamma = 0.1\n",
        "\n",
        "# n determines network size as described in paper\n",
        "# where total number of layers is (6*n)+2\n",
        "ns = [3, 9]\n",
        "\n"
      ],
      "execution_count": null,
      "outputs": []
    },
    {
      "cell_type": "markdown",
      "metadata": {
        "id": "dDXtPdjUh-o3"
      },
      "source": [
        "### Plain nets\n",
        "\n",
        "Run training loop for **'plain' convolutional networks** without shortcuts. Here we run for n={3, 5, 7,9} corresponding to networks of depth 20, 32, 44 and 64 layers. "
      ]
    },
    {
      "cell_type": "code",
      "metadata": {
        "id": "YkgDn0p6h-o3"
      },
      "source": [
        "# TRAIN PLAIN NETs\n",
        "\n",
        "for n in ns:\n",
        "    print(f'MODEL SIZE: n={n}')\n",
        "    for i in range(runs):\n",
        "      print(f'#Run={i}')\n",
        "      # Reload data\n",
        "      train_loader, test_loader = get_data_loaders(data_dir,\n",
        "                                                  batch_size,\n",
        "                                                  train_transform,\n",
        "                                                  test_transform,\n",
        "                                                  shuffle=True,\n",
        "                                                  num_workers=4,\n",
        "                                                  pin_memory=True)\n",
        "      \n",
        "      model = ResNet(n, shortcuts=False)\n",
        "      criterion = torch.nn.NLLLoss()\n",
        "      optimizer = optim.SGD(model.parameters(), lr=lr, momentum=momentum, weight_decay=weight_decay)\n",
        "      scheduler = optim.lr_scheduler.MultiStepLR(optimizer, milestones=milestones, gamma=gamma)\n",
        "      results_file = f'results/plainnet{6*n+2}run{i}.csv'\n",
        "      model_file = f'pretrained/plainnet{6*n+2}run{i}.pt'\n",
        "      train(model, epochs, train_loader, test_loader, criterion, \n",
        "            optimizer, results_file, scheduler=scheduler, MODEL_PATH=model_file)"
      ],
      "execution_count": null,
      "outputs": []
    },
    {
      "cell_type": "markdown",
      "metadata": {
        "id": "H83pAeKrh-o5"
      },
      "source": [
        "### Residual nets\n",
        "\n",
        "Run training loop for residual networks with shortcuts. Here we run for n={3, 5, 7,9} corresponding to networks of depth 20, 32, 44 and 64 layers.\n"
      ]
    },
    {
      "cell_type": "code",
      "metadata": {
        "id": "Z0reBUAxh-o6"
      },
      "source": [
        "# TRAIN RESNETs\n",
        "\n",
        "for n in ns:\n",
        "    print(f'MODEL SIZE: n={n}')\n",
        "    for i in range(runs):\n",
        "          print(f'#Run={i}')\n",
        "          # Reload data\n",
        "          train_loader, test_loader = get_data_loaders(data_dir,\n",
        "                                                      batch_size,\n",
        "                                                      train_transform,\n",
        "                                                      test_transform,\n",
        "                                                      shuffle=True,\n",
        "                                                      num_workers=4,\n",
        "                                                      pin_memory=True)\n",
        "          \n",
        "          model = ResNet(n, shortcuts=True)\n",
        "          criterion = torch.nn.NLLLoss()\n",
        "          optimizer = optim.SGD(model.parameters(), lr=lr, momentum=momentum, weight_decay=weight_decay)\n",
        "          scheduler = optim.lr_scheduler.MultiStepLR(optimizer, milestones=milestones, gamma=gamma)\n",
        "          results_file = f'results/resnet{6*n+2}run{i}.csv'\n",
        "          model_file = f'pretrained/resnet{6*n+2}run{i}.pt'\n",
        "          train(model, epochs, train_loader, test_loader, criterion, \n",
        "                optimizer, results_file, scheduler=scheduler, MODEL_PATH=model_file)"
      ],
      "execution_count": null,
      "outputs": []
    },
    {
      "cell_type": "markdown",
      "metadata": {
        "id": "GuC6zj6zh-o7"
      },
      "source": [
        "### Check model\n",
        "\n",
        "Table 6. in the paper reports that the ResNet model with 20 layers should have 0.27 million trainable parameters. We reproduce that here.\n",
        "\n",
        "It is noted elsewhere that the plain net should have the same number of parameters for the CIFAR10 experiment. This is because an identity mapping is used for the residual shortcuts, as opposed to a convolutional layer, an so there are no additional trainable parameters."
      ]
    },
    {
      "cell_type": "code",
      "metadata": {
        "scrolled": true,
        "id": "93snz5gvh-o7"
      },
      "source": [
        "# print(f'Parameter count: {sum([p.numel() for p in model.parameters()])}') "
      ],
      "execution_count": null,
      "outputs": []
    },
    {
      "cell_type": "markdown",
      "metadata": {
        "id": "0HOSLrhAh-o8"
      },
      "source": [
        "The PyTorch model architecture for a 20 layer model."
      ]
    },
    {
      "cell_type": "code",
      "metadata": {
        "scrolled": true,
        "id": "QabqLtMhh-o8"
      },
      "source": [
        "# print(model)"
      ],
      "execution_count": null,
      "outputs": []
    },
    {
      "cell_type": "markdown",
      "metadata": {
        "id": "ml7DO9w_h-o9"
      },
      "source": [
        "## Analysis\n",
        "\n",
        "### Plain net\n",
        "\n",
        "First we compare the performance of 'plain' convolutional networks of various depths. This corresponds to the left-hand axis of Figure. 6 in the paper. "
      ]
    },
    {
      "cell_type": "code",
      "metadata": {
        "scrolled": false,
        "id": "r_b3GX_2h-o9"
      },
      "source": [
        "ns  = [3, 9]\n",
        "color = ['y', 'r']\n",
        "\n",
        "\n",
        "plainnet_dfs = [pd.read_csv(f'results/plainnet{6*n+2}.csv') for n in ns]\n",
        "fig = plt.figure(figsize=(20, 10))\n",
        "plt.axis([0, epochs, 0, 100])\n",
        "\n",
        "\n",
        "for i in range(len(ns)):\n",
        "    plt.plot(plainnet_dfs[i]['epoch'], plainnet_dfs[i]['train_err']*100, f'{color[i]}--',\n",
        "             label=f'plain-{6*ns[i]+2} train')\n",
        "    plt.plot(plainnet_dfs[i]['epoch'], plainnet_dfs[i]['test_err']*100, f'{color[i]}',\n",
        "             label=f'plain-{6*ns[i]+2} test')\n",
        "\n",
        "plt.title('Plain-20, VS Plain-56')\n",
        "plt.legend(loc='upper right')\n",
        "plt.xlabel('epochs')\n",
        "plt.ylabel('error (%)')\n",
        "plt.axhline(10, color='black', alpha=0.5, dashes=(10., 10.))\n",
        "plt.axhline(5, color='black', alpha=0.5, dashes=(10., 10.));\n",
        "plt.show()"
      ],
      "execution_count": null,
      "outputs": []
    },
    {
      "cell_type": "code",
      "metadata": {
        "id": "pV0YuZykaD89"
      },
      "source": [
        "plainnet20_dfs = [pd.read_csv(f'results/plainnet{6*3+2}run{i}.csv') for i in range(runs)]\n",
        "plainnet56_dfs = [pd.read_csv(f'results/plainnet{6*9+2}run{i}.csv') for i in range(runs)]\n",
        "\n",
        "concat_20_table = pd.concat(plainnet20_dfs)\n",
        "concat_56_table = pd.concat(plainnet56_dfs)\n",
        "\n",
        "cols = [j for j in range(epochs)]\n",
        "statistic20_df = pd.DataFrame(columns=cols, index=['mean', 'std'])\n",
        "statistic56_df = pd.DataFrame(columns=cols, index=['mean', 'std'])\n",
        "\n",
        "statistic20_df.loc['mean'] = concat_20_table.groupby('epoch')['test_err'].mean()*100\n",
        "statistic20_df.loc['std'] = concat_20_table.groupby('epoch')['test_err'].std()\n",
        "\n",
        "statistic56_df.loc['mean'] = concat_56_table.groupby('epoch')['test_err'].mean()*100\n",
        "statistic56_df.loc['std'] = concat_56_table.groupby('epoch')['test_err'].std()\n",
        "\n",
        "x = list(range(epochs))\n",
        "x_rev = x[::-1]\n",
        "\n",
        "# Line 1: plain-20 test error\n",
        "y1 = list(statistic20_df.loc['mean'])\n",
        "y1_upper = list(y1 + statistic20_df.loc['std'])\n",
        "y1_lower = list(y1 - statistic20_df.loc['std'])\n",
        "y1_lower = y1_lower[::-1]\n",
        "\n",
        "# Line 2: plain-56 test error\n",
        "y2 = list(statistic56_df.loc['mean'])\n",
        "y2_upper = list(y2 + statistic56_df.loc['std'])\n",
        "y2_lower = list(y2 - statistic56_df.loc['std'])\n",
        "y2_lower = y2_lower[::-1]\n",
        "\n",
        "fig = go.Figure()\n",
        "\n",
        "fig.add_trace(go.Scatter(\n",
        "    x=x+x_rev,\n",
        "    y=y1_upper+y1_lower,\n",
        "    fill='toself',\n",
        "    fillcolor='rgba(0,100,80,0.2)',\n",
        "    line_color='rgba(255,255,255,0)',\n",
        "    showlegend=False,\n",
        "    name='plain-20 test err',\n",
        "))\n",
        "fig.add_trace(go.Scatter(\n",
        "    x=x+x_rev,\n",
        "    y=y2_upper+y2_lower,\n",
        "    fill='toself',\n",
        "    fillcolor='rgba(0,176,246,0.2)',\n",
        "    line_color='rgba(255,255,255,0)',\n",
        "    name='plain-56 test err',\n",
        "    showlegend=False,\n",
        "))\n",
        "\n",
        "fig.add_trace(go.Scatter(\n",
        "    x=x, y=y1,\n",
        "    line_color='rgb(0,100,80)',\n",
        "    name='plain-20 test err',\n",
        "))\n",
        "fig.add_trace(go.Scatter(\n",
        "    x=x, y=y2,\n",
        "    line_color='rgb(0,176,246)',\n",
        "    name='plain-56 test err',\n",
        "))\n",
        "\n",
        "fig.update_traces(mode='lines')\n",
        "fig.update_layout(title={'text': \"Plain-20 VS Plain-56\",'y':0.9,'x':0.5,'xanchor': 'center','yanchor': 'top'} , xaxis_title=\"Epochs\",\n",
        "    yaxis_title=\"Error (%)\",template='plotly_dark')\n",
        "fig.show()\n",
        "fig.write_html(\"plain_errors.html\")"
      ],
      "execution_count": null,
      "outputs": []
    },
    {
      "cell_type": "code",
      "metadata": {
        "id": "QrbXIR0Jh-o-"
      },
      "source": [
        "bests = [df[df['test_err'] == df['test_err'].min()].iloc[0] for df in plainnet_dfs]\n",
        "bests_df= pd.concat(bests, axis=1).T\n",
        "bests_df['model'] = ['PlainNet20', 'PlainNet56']\n",
        "display(bests_df[['model', 'test_err']])\n"
      ],
      "execution_count": null,
      "outputs": []
    },
    {
      "cell_type": "markdown",
      "metadata": {
        "id": "aHP7g1Vdh-o_"
      },
      "source": [
        "### Resnet"
      ]
    },
    {
      "cell_type": "code",
      "metadata": {
        "id": "dOn62V21h-o_"
      },
      "source": [
        "ns  = [3, 9]\n",
        "clr = ['y', 'r']\n",
        "\n",
        "resnet_dfs = [pd.read_csv(f'results/resnet{6*n+2}.csv') for n in ns]\n",
        "fig = plt.figure(figsize=(20, 10))\n",
        "plt.axis([0, epochs, 0, 100])\n",
        "\n",
        "\n",
        "for i in range(len(ns)):\n",
        "    plt.plot(resnet_dfs[i]['epoch'], resnet_dfs[i]['train_err']*100, f'{clr[i]}--',\n",
        "             label=f'ResNet-{6*ns[i]+2} train')\n",
        "    plt.plot(resnet_dfs[i]['epoch'], resnet_dfs[i]['test_err']*100, f'{clr[i]}',\n",
        "             label=f'ResNet-{6*ns[i]+2} test')\n",
        "\n",
        "plt.title('ResNet-20 VS ResNet-56.')\n",
        "plt.legend(loc='upper right')\n",
        "plt.xlabel('epochs')\n",
        "plt.ylabel('error (%)')\n",
        "plt.axhline(10, color='black', alpha=0.5, dashes=(10., 10.))\n",
        "plt.axhline(5, color='black', alpha=0.5, dashes=(10., 10.));"
      ],
      "execution_count": null,
      "outputs": []
    },
    {
      "cell_type": "code",
      "metadata": {
        "id": "jpthlrPjakhA"
      },
      "source": [
        "resnet20_dfs = [pd.read_csv(f'results/resnet{6*3+2}run{i}.csv') for i in range(runs)]\n",
        "resnet56_dfs = [pd.read_csv(f'results/resnet{6*9+2}run{i}.csv') for i in range(runs)]\n",
        "\n",
        "concat_20_table = pd.concat(resnet20_dfs)\n",
        "concat_56_table = pd.concat(resnet56_dfs)\n",
        "\n",
        "cols = [j for j in range(epochs)]\n",
        "statistic20_df = pd.DataFrame(columns=cols, index=['mean', 'std'])\n",
        "statistic56_df = pd.DataFrame(columns=cols, index=['mean', 'std'])\n",
        "\n",
        "statistic20_df.loc['mean'] = concat_20_table.groupby('epoch')['test_err'].mean()*100\n",
        "statistic20_df.loc['std'] = concat_20_table.groupby('epoch')['test_err'].std()*100\n",
        "\n",
        "statistic56_df.loc['mean'] = concat_56_table.groupby('epoch')['test_err'].mean()*100\n",
        "statistic56_df.loc['std'] = concat_56_table.groupby('epoch')['test_err'].std()*100\n",
        "\n",
        "x = list(range(epochs))\n",
        "x_rev = x[::-1]\n",
        "\n",
        "# Line 1: plain-20 test error\n",
        "y1 = list(statistic20_df.loc['mean'])\n",
        "y1_upper = list(y1 + statistic20_df.loc['std'])\n",
        "y1_lower = list(y1 - statistic20_df.loc['std'])\n",
        "y1_lower = y1_lower[::-1]\n",
        "\n",
        "# Line 2: plain-56 test error\n",
        "y2 = list(statistic56_df.loc['mean'])\n",
        "y2_upper = list(y2 + statistic56_df.loc['std'])\n",
        "y2_lower = list(y2 - statistic56_df.loc['std'])\n",
        "y2_lower = y2_lower[::-1]\n",
        "\n",
        "fig = go.Figure()\n",
        "\n",
        "fig.add_trace(go.Scatter(\n",
        "    x=x+x_rev,\n",
        "    y=y1_upper+y1_lower,\n",
        "    fill='toself',\n",
        "    fillcolor='rgba(0,100,80,0.2)',\n",
        "    line_color='rgba(255,255,255,0)',\n",
        "    showlegend=False,\n",
        "    name='resnet-20 test err',\n",
        "))\n",
        "fig.add_trace(go.Scatter(\n",
        "    x=x+x_rev,\n",
        "    y=y2_upper+y2_lower,\n",
        "    fill='toself',\n",
        "    fillcolor='rgba(0,176,246,0.2)',\n",
        "    line_color='rgba(255,255,255,0)',\n",
        "    name='resnet-56 test err',\n",
        "    showlegend=False,\n",
        "))\n",
        "\n",
        "fig.add_trace(go.Scatter(\n",
        "    x=x, y=y1,\n",
        "    line_color='rgb(0,100,80)',\n",
        "    name='resnet-20 test err',\n",
        "))\n",
        "fig.add_trace(go.Scatter(\n",
        "    x=x, y=y2,\n",
        "    line_color='rgb(0,176,246)',\n",
        "    name='resnet-56 test err',\n",
        "))\n",
        "\n",
        "fig.update_traces(mode='lines')\n",
        "fig.update_layout(title={'text': \"ResNet-20 VS ResNet-56\",'y':0.9,'x':0.5,'xanchor': 'center','yanchor': 'top'} , xaxis_title=\"Epochs\",\n",
        "    yaxis_title=\"Error (%)\",template='plotly_dark')\n",
        "fig.show()\n",
        "fig.write_html(\"resnet_errors.html\")"
      ],
      "execution_count": null,
      "outputs": []
    },
    {
      "cell_type": "code",
      "metadata": {
        "id": "Bs13qVPWh-pA"
      },
      "source": [
        "bests = [df[df['test_err'] == df['test_err'].min()].iloc[0] for df in resnet_dfs]\n",
        "bests_df= pd.concat(bests, axis=1).T\n",
        "bests_df['model'] = ['ResNet20', 'ResNet32', 'ResNet44', 'ResNet56']\n",
        "display(bests_df[['model', 'test_err']])\n"
      ],
      "execution_count": null,
      "outputs": []
    },
    {
      "cell_type": "markdown",
      "metadata": {
        "id": "9JLiihGuh-pA"
      },
      "source": [
        "## Side-by-side plot"
      ]
    },
    {
      "cell_type": "code",
      "metadata": {
        "id": "E46ugLX2h-pB"
      },
      "source": [
        "ns  = [3, 9]\n",
        "clr = ['y', 'r']\n",
        "\n",
        "\n",
        "f, (ax1, ax2) = plt.subplots(1, 2, sharey=True, figsize=(25, 7))\n",
        "\n",
        "plainnet_dfs = [pd.read_csv(f'results/plainnet{6*n+2}.csv') for n in ns]\n",
        "resnet_dfs = [pd.read_csv(f'results/resnet{6*n+2}.csv') for n in ns]\n",
        "\n",
        "def plot_results(dfs, ax, title):\n",
        "    ax.axis([0, 164, 0, 20])\n",
        "    \n",
        "    for i in range(len(ns)):\n",
        "        ax.plot(dfs[i]['epoch'], dfs[i]['train_err']*100, f'{clr[i]}--',\n",
        "                 label=f'plain-{6*ns[i]+2} train')\n",
        "        ax.plot(dfs[i]['epoch'], dfs[i]['test_err']*100, f'{clr[i]}',\n",
        "                 label=f'plain-{6*ns[i]+2} test')\n",
        "    \n",
        "    ax.set_title(title)\n",
        "    ax.legend(loc='bottom left')\n",
        "    ax.set_xlabel('epochs')\n",
        "    ax.set_ylabel('error (%)')\n",
        "    ax.axhline(10, color='black', alpha=0.5, dashes=(10., 10.))\n",
        "    ax.axhline(5, color='black', alpha=0.5, dashes=(10., 10.));\n",
        "    \n",
        "plot_results(plainnet_dfs, ax1, 'Plain Networks')\n",
        "plot_results(resnet_dfs, ax2, 'Residual Networks')"
      ],
      "execution_count": null,
      "outputs": []
    },
    {
      "cell_type": "code",
      "metadata": {
        "id": "k8fx6p7Jh-pC"
      },
      "source": [
        ""
      ],
      "execution_count": null,
      "outputs": []
    }
  ]
}